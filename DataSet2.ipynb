{
  "nbformat": 4,
  "nbformat_minor": 0,
  "metadata": {
    "colab": {
      "name": "DataSet2.ipynb",
      "provenance": [],
      "collapsed_sections": []
    },
    "kernelspec": {
      "name": "python3",
      "display_name": "Python 3"
    }
  },
  "cells": [
    {
      "cell_type": "markdown",
      "metadata": {
        "id": "CXdH3B_tP2ZF",
        "colab_type": "text"
      },
      "source": [
        "Juan Jose Richard Anavi Chambi --- \n",
        "Yurika Macusaya Aguilar --- \n",
        "Raphael Fabriccio Loza Sanchez"
      ]
    },
    {
      "cell_type": "code",
      "metadata": {
        "id": "JMlqVqOL8CU8",
        "colab_type": "code",
        "colab": {}
      },
      "source": [
        "#Importamos las librerias base\n",
        "import numpy as np\n",
        "import pandas as pd\n",
        "import seaborn as sns\n",
        "#Importamos las librerias para realizar la particion, regresion logistica\n",
        "from sklearn.model_selection import train_test_split\n",
        "from sklearn.linear_model import LogisticRegression\n",
        "from sklearn.metrics import classification_report, confusion_matrix\n",
        "from sklearn import metrics "
      ],
      "execution_count": null,
      "outputs": []
    },
    {
      "cell_type": "code",
      "metadata": {
        "id": "efGC3Fe38gNW",
        "colab_type": "code",
        "colab": {
          "base_uri": "https://localhost:8080/",
          "height": 204
        },
        "outputId": "5bc0cf90-0fd4-440c-bf86-c31ae22285c6"
      },
      "source": [
        "#Cargamos el Dataset utilizando Pandas\n",
        "df = pd.read_csv(\"https://raw.githubusercontent.com/CRAT-Training/datasets/master/Dataset2/Student-Pass-Fail-Data.csv\")\n",
        "df.head()"
      ],
      "execution_count": null,
      "outputs": [
        {
          "output_type": "execute_result",
          "data": {
            "text/html": [
              "<div>\n",
              "<style scoped>\n",
              "    .dataframe tbody tr th:only-of-type {\n",
              "        vertical-align: middle;\n",
              "    }\n",
              "\n",
              "    .dataframe tbody tr th {\n",
              "        vertical-align: top;\n",
              "    }\n",
              "\n",
              "    .dataframe thead th {\n",
              "        text-align: right;\n",
              "    }\n",
              "</style>\n",
              "<table border=\"1\" class=\"dataframe\">\n",
              "  <thead>\n",
              "    <tr style=\"text-align: right;\">\n",
              "      <th></th>\n",
              "      <th>Self_Study_Daily</th>\n",
              "      <th>Tution_Monthly</th>\n",
              "      <th>Pass_Or_Fail</th>\n",
              "    </tr>\n",
              "  </thead>\n",
              "  <tbody>\n",
              "    <tr>\n",
              "      <th>0</th>\n",
              "      <td>7</td>\n",
              "      <td>27</td>\n",
              "      <td>1</td>\n",
              "    </tr>\n",
              "    <tr>\n",
              "      <th>1</th>\n",
              "      <td>2</td>\n",
              "      <td>43</td>\n",
              "      <td>0</td>\n",
              "    </tr>\n",
              "    <tr>\n",
              "      <th>2</th>\n",
              "      <td>7</td>\n",
              "      <td>26</td>\n",
              "      <td>1</td>\n",
              "    </tr>\n",
              "    <tr>\n",
              "      <th>3</th>\n",
              "      <td>8</td>\n",
              "      <td>29</td>\n",
              "      <td>1</td>\n",
              "    </tr>\n",
              "    <tr>\n",
              "      <th>4</th>\n",
              "      <td>3</td>\n",
              "      <td>42</td>\n",
              "      <td>0</td>\n",
              "    </tr>\n",
              "  </tbody>\n",
              "</table>\n",
              "</div>"
            ],
            "text/plain": [
              "   Self_Study_Daily  Tution_Monthly  Pass_Or_Fail\n",
              "0                 7              27             1\n",
              "1                 2              43             0\n",
              "2                 7              26             1\n",
              "3                 8              29             1\n",
              "4                 3              42             0"
            ]
          },
          "metadata": {
            "tags": []
          },
          "execution_count": 16
        }
      ]
    },
    {
      "cell_type": "code",
      "metadata": {
        "id": "TRUbejscjaZj",
        "colab_type": "code",
        "colab": {
          "base_uri": "https://localhost:8080/",
          "height": 404
        },
        "outputId": "e666b10a-80b0-4c92-ff0d-f70d38a9f9bb"
      },
      "source": [
        "#Graficamos el DataSet para ver como se comportan los datos\n",
        "sns.p\n",
        "sns.pairplot(df, hue = 'Pass_Or_Fail', vars = ['Self_Study_Daily', \n",
        "                                               'Tution_Monthly'])"
      ],
      "execution_count": null,
      "outputs": [
        {
          "output_type": "execute_result",
          "data": {
            "text/plain": [
              "<seaborn.axisgrid.PairGrid at 0x7f03b36e68d0>"
            ]
          },
          "metadata": {
            "tags": []
          },
          "execution_count": 90
        },
        {
          "output_type": "display_data",
          "data": {
            "image/png": "[encoded data removed]",
            "text/plain": [
              "<Figure size 428.75x360 with 6 Axes>"
            ]
          },
          "metadata": {
            "tags": [],
            "needs_background": "light"
          }
        }
      ]
    },
    {
      "cell_type": "markdown",
      "metadata": {
        "id": "jSLPWBS3qY01",
        "colab_type": "text"
      },
      "source": [
        "Los datos tienen un comportamiento muy similar a la regresion linear, sin embargo optamos por la regresion logistica ya que la variable a predecir solo tiene dos opciones (Pass - Fail)"
      ]
    },
    {
      "cell_type": "code",
      "metadata": {
        "id": "3phBnhS-dlwX",
        "colab_type": "code",
        "colab": {
          "base_uri": "https://localhost:8080/",
          "height": 85
        },
        "outputId": "e2d78e2b-3000-412c-9af8-760639ec6b58"
      },
      "source": [
        "#Verificamos si existe algun valor nulo\n",
        "\n",
        "df.isnull().sum()\n"
      ],
      "execution_count": null,
      "outputs": [
        {
          "output_type": "execute_result",
          "data": {
            "text/plain": [
              "Self_Study_Daily    0\n",
              "Tution_Monthly      0\n",
              "Pass_Or_Fail        0\n",
              "dtype: int64"
            ]
          },
          "metadata": {
            "tags": []
          },
          "execution_count": 115
        }
      ]
    },
    {
      "cell_type": "code",
      "metadata": {
        "id": "dN2zMcTvaYTQ",
        "colab_type": "code",
        "colab": {}
      },
      "source": [
        "#Preparamos la separacion de la columna target\n",
        "X = pd.DataFrame(np.c_[df[\"Self_Study_Daily\"],df[\"Tution_Monthly\"]], \n",
        "                 columns=[\"Self_Study_Daily\",\"Tution_Monthly\"])\n",
        "y = df['Pass_Or_Fail']"
      ],
      "execution_count": null,
      "outputs": []
    },
    {
      "cell_type": "code",
      "metadata": {
        "id": "QSeaz_WiaPwd",
        "colab_type": "code",
        "colab": {}
      },
      "source": [
        "#Realizamos la separacion del dataset en entrenamiento y prueba\n",
        "# 80 entrenamiento - 20 pruebas\n",
        "X_train, X_test, y_train, y_test = train_test_split(X, y, test_size = 0.2,\n",
        "                                                    random_state=42)"
      ],
      "execution_count": null,
      "outputs": []
    },
    {
      "cell_type": "code",
      "metadata": {
        "id": "XqRX1iGoCJMN",
        "colab_type": "code",
        "colab": {
          "base_uri": "https://localhost:8080/",
          "height": 102
        },
        "outputId": "6a8828de-4c2c-462b-c0cf-5567abb1a729"
      },
      "source": [
        "#Regresion Logistica\n",
        "logreg = LogisticRegression()\n",
        "logreg.fit(X_train, y_train)\n"
      ],
      "execution_count": null,
      "outputs": [
        {
          "output_type": "execute_result",
          "data": {
            "text/plain": [
              "LogisticRegression(C=1.0, class_weight=None, dual=False, fit_intercept=True,\n",
              "                   intercept_scaling=1, l1_ratio=None, max_iter=100,\n",
              "                   multi_class='auto', n_jobs=None, penalty='l2',\n",
              "                   random_state=None, solver='lbfgs', tol=0.0001, verbose=0,\n",
              "                   warm_start=False)"
            ]
          },
          "metadata": {
            "tags": []
          },
          "execution_count": 102
        }
      ]
    },
    {
      "cell_type": "code",
      "metadata": {
        "id": "_Z6PTEIwCkrD",
        "colab_type": "code",
        "colab": {
          "base_uri": "https://localhost:8080/",
          "height": 34
        },
        "outputId": "fa9f6814-b4cf-4836-9193-a2a14b4a31a8"
      },
      "source": [
        "#Score\n",
        "logreg.score(X_test,y_test)"
      ],
      "execution_count": null,
      "outputs": [
        {
          "output_type": "execute_result",
          "data": {
            "text/plain": [
              "0.99"
            ]
          },
          "metadata": {
            "tags": []
          },
          "execution_count": 104
        }
      ]
    },
    {
      "cell_type": "code",
      "metadata": {
        "id": "n2DD5RkzgRBQ",
        "colab_type": "code",
        "colab": {
          "base_uri": "https://localhost:8080/",
          "height": 187
        },
        "outputId": "91ec5ee0-7bd5-4fbf-f66a-bb586e07992d"
      },
      "source": [
        "#Cargando la prediccion\n",
        "y_pred = percep.predict(X_test)\n",
        "y_pred"
      ],
      "execution_count": null,
      "outputs": [
        {
          "output_type": "execute_result",
          "data": {
            "text/plain": [
              "array([0, 0, 1, 0, 1, 1, 0, 0, 1, 1, 1, 0, 0, 1, 1, 0, 1, 1, 0, 0, 0, 1,\n",
              "       1, 0, 1, 0, 1, 1, 1, 0, 1, 0, 1, 0, 0, 1, 0, 1, 1, 0, 0, 1, 1, 0,\n",
              "       1, 1, 0, 0, 0, 1, 0, 1, 0, 1, 0, 0, 1, 0, 1, 1, 0, 1, 0, 1, 0, 1,\n",
              "       0, 0, 1, 0, 0, 1, 0, 1, 0, 0, 0, 1, 1, 1, 1, 0, 0, 1, 1, 1, 1, 0,\n",
              "       1, 0, 1, 0, 1, 0, 1, 1, 1, 1, 0, 0, 0, 1, 1, 0, 1, 1, 1, 0, 0, 1,\n",
              "       0, 0, 0, 0, 0, 0, 1, 0, 1, 0, 0, 0, 1, 0, 1, 1, 1, 0, 0, 0, 1, 1,\n",
              "       0, 1, 0, 0, 0, 1, 0, 0, 0, 1, 1, 1, 0, 1, 0, 0, 0, 0, 0, 0, 1, 1,\n",
              "       0, 0, 1, 1, 1, 1, 1, 0, 1, 1, 0, 0, 1, 0, 1, 0, 0, 1, 0, 1, 1, 1,\n",
              "       1, 1, 1, 0, 0, 1, 1, 1, 0, 0, 1, 1, 0, 0, 1, 1, 0, 1, 1, 0, 1, 0,\n",
              "       0, 0])"
            ]
          },
          "metadata": {
            "tags": []
          },
          "execution_count": 107
        }
      ]
    },
    {
      "cell_type": "code",
      "metadata": {
        "id": "KwpcO00Riza6",
        "colab_type": "code",
        "colab": {
          "base_uri": "https://localhost:8080/",
          "height": 34
        },
        "outputId": "c9ce2fe2-0bfa-4a7c-f680-8ffa9ee98e0f"
      },
      "source": [
        "#Exactitud\n",
        "accuracy = metrics.accuracy_score(y_test, y_pred)\n",
        "print('Exactitud {:.2f}'.format(round((accuracy * 100), 2)))"
      ],
      "execution_count": null,
      "outputs": [
        {
          "output_type": "stream",
          "text": [
            "Exactitud 98.00\n"
          ],
          "name": "stdout"
        }
      ]
    },
    {
      "cell_type": "code",
      "metadata": {
        "id": "LU-s1FHjgoKj",
        "colab_type": "code",
        "colab": {
          "base_uri": "https://localhost:8080/",
          "height": 286
        },
        "outputId": "5230a5d9-63fe-4897-de2e-decd535abf7d"
      },
      "source": [
        "#Matriz\n",
        "matrix = np.array(confusion_matrix(y_test, y_pred, labels = [1, 0]))\n",
        "confusion = pd.DataFrame(matrix, index = ['Reprobo', 'Aprobo'],\n",
        "                         columns = ['Malo', 'Bueno'])\n",
        "\n",
        "sns.heatmap(confusion, annot=True, cmap='YlGnBu')"
      ],
      "execution_count": null,
      "outputs": [
        {
          "output_type": "execute_result",
          "data": {
            "text/plain": [
              "<matplotlib.axes._subplots.AxesSubplot at 0x7f03b3789780>"
            ]
          },
          "metadata": {
            "tags": []
          },
          "execution_count": 112
        },
        {
          "output_type": "display_data",
          "data": {
            "image/png": "[encoded data removed]",
            "text/plain": [
              "<Figure size 432x288 with 2 Axes>"
            ]
          },
          "metadata": {
            "tags": [],
            "needs_background": "light"
          }
        }
      ]
    },
    {
      "cell_type": "code",
      "metadata": {
        "id": "OmdrLAN9grub",
        "colab_type": "code",
        "colab": {
          "base_uri": "https://localhost:8080/",
          "height": 51
        },
        "outputId": "94cad123-4583-4083-a0f7-08711c210d75"
      },
      "source": [
        "#Prediccion con datos 15 Horas de estudia diario y 10 horas de Turoria al mes\n",
        "result = percep.predict([[15,10]])\n",
        "print(\"Datos Arrojados:  1 = aprobo; 0 = reprobo\")\n",
        "print(\"la prediccion = \",result)"
      ],
      "execution_count": null,
      "outputs": [
        {
          "output_type": "stream",
          "text": [
            "Datos Arrojados:  1 = aprobo; 0 = reprobo\n",
            "la prediccion =  [1]\n"
          ],
          "name": "stdout"
        }
      ]
    },
    {
      "cell_type": "markdown",
      "metadata": {
        "id": "y9iww0r4s75M",
        "colab_type": "text"
      },
      "source": [
        "En base a los resultados podemos concluir que el tiempo de estudio individual tiene mayor peso que el tiempo de tutorias al mes. Para determinar si un estudiante Aprueba o Reprueba la materia."
      ]
    },
    {
      "cell_type": "code",
      "metadata": {
        "id": "BPww5r3psyVz",
        "colab_type": "code",
        "colab": {}
      },
      "source": [
        ""
      ],
      "execution_count": null,
      "outputs": []
    }
  ]
}